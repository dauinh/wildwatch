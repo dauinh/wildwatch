{
 "cells": [
  {
   "cell_type": "code",
   "execution_count": null,
   "metadata": {},
   "outputs": [
    {
     "ename": "",
     "evalue": "",
     "output_type": "error",
     "traceback": [
      "\u001b[1;31mRunning cells with 'Python 3.12.4' requires the ipykernel package.\n",
      "\u001b[1;31mRun the following command to install 'ipykernel' into the Python environment. \n",
      "\u001b[1;31mCommand: '/usr/local/bin/python3.12 -m pip install ipykernel -U --user --force-reinstall'"
     ]
    }
   ],
   "source": [
    "import pandas as pd\n",
    "import matplotlib.pyplot as plt"
   ]
  },
  {
   "cell_type": "code",
   "execution_count": null,
   "metadata": {},
   "outputs": [],
   "source": [
    "main_df = pd.read_csv('./data/main.csv')\n",
    "habitats_df = pd.read_csv('./data/habitats.csv')\n",
    "locations_df = pd.read_csv('./data/locations.csv')\n",
    "conservation_actions_df = pd.read_csv('./data/conservation_actions.csv')\n",
    "threats_df = pd.read_csv('./data/threats.csv')"
   ]
  },
  {
   "cell_type": "code",
   "execution_count": null,
   "metadata": {},
   "outputs": [],
   "source": [
    "group = conservation_actions_df.groupby('group').size().reset_index(name='count')\n",
    "fig = plt.figure()\n",
    "plt.pie(x=group['count'], labels=group['group'], colors=['#8dd3c7','#ffffb3','#bebada','#fb8072','#80b1d3','#fdb462'])\n",
    "plt.show()"
   ]
  },
  {
   "cell_type": "code",
   "execution_count": null,
   "metadata": {},
   "outputs": [],
   "source": [
    "group = habitats_df.groupby('group').size().reset_index(name='count')\n",
    "fig = plt.figure()\n",
    "plt.pie(x=group['count'], labels=group['group'], colors=['#ccebc5','#fbb4ae','#b3cde3','#decbe4','#fed9a6','#ffffcc','#e5d8bd'])\n",
    "plt.show()"
   ]
  },
  {
   "cell_type": "code",
   "execution_count": null,
   "metadata": {},
   "outputs": [],
   "source": [
    "group = threats_df.groupby('group').size().reset_index(name='count')\n",
    "fig = plt.figure()\n",
    "plt.pie(x=group['count'], labels=group['group'], colors=['#a6cee3','#1f78b4','#b2df8a','#33a02c','#fb9a99','#e31a1c','#fdbf6f','#ff7f00','#cab2d6'])\n",
    "plt.show()"
   ]
  }
 ],
 "metadata": {
  "kernelspec": {
   "display_name": "env",
   "language": "python",
   "name": "python3"
  },
  "language_info": {
   "codemirror_mode": {
    "name": "ipython",
    "version": 3
   },
   "file_extension": ".py",
   "mimetype": "text/x-python",
   "name": "python",
   "nbconvert_exporter": "python",
   "pygments_lexer": "ipython3",
   "version": "3.11.6"
  }
 },
 "nbformat": 4,
 "nbformat_minor": 2
}
